{
  "nbformat": 4,
  "nbformat_minor": 0,
  "metadata": {
    "colab": {
      "provenance": [],
      "include_colab_link": true
    },
    "kernelspec": {
      "name": "python3",
      "display_name": "Python 3"
    },
    "language_info": {
      "name": "python"
    }
  },
  "cells": [
    {
      "cell_type": "markdown",
      "metadata": {
        "id": "view-in-github",
        "colab_type": "text"
      },
      "source": [
        "<a href=\"https://colab.research.google.com/github/ClaudioH19/TareasML/blob/master/PROYECTO_FINAL/Notebooks/etapa_2_proyecto_ecg_etapa2.ipynb\" target=\"_parent\"><img src=\"https://colab.research.google.com/assets/colab-badge.svg\" alt=\"Open In Colab\"/></a>"
      ]
    },
    {
      "cell_type": "markdown",
      "source": [
        "# **FASE 2: PROCESAMIENTO DE DATOS Y MODELO ML**"
      ],
      "metadata": {
        "id": "LwRZd_v6spEa"
      }
    },
    {
      "cell_type": "markdown",
      "source": [
        "Se usara un modelo de Random Forest para entrenar e intentar predecir las clases. Este modelo requiere un alto preprocesamiento de datos, por ellos se revisará nuevamente el balance de clases, y la normalización de datos"
      ],
      "metadata": {
        "id": "m9cDtIn_tMJy"
      }
    },
    {
      "cell_type": "code",
      "source": [
        "# Descargar el archivo CSV curado desde Google Drive\n",
        "!pip install -q gdown\n",
        "import gdown\n",
        "import pandas as pd\n",
        "\n",
        "file_id = \"1Nje52iHziTZQ1rBZIP5dSl5x8Pcaa9Po\"\n",
        "gdown.download(f\"https://drive.google.com/uc?id={file_id}\", \"ecg_rr_features_curado_final.csv\", quiet=False)\n",
        "\n",
        "# Cargar el archivo CSV en un DataFrame de pandas\n",
        "df = pd.read_csv(\"ecg_rr_features_curado_final.csv\")\n",
        "\n",
        "# Mostrar distribución de clases\n",
        "print(df['label'].value_counts())\n",
        "\n",
        "# Ver distribución de datos\n",
        "print(df.describe())\n",
        "\n",
        "\n",
        "# Mostrar las primeras filas del DataFrame para verificar la carga\n",
        "df.head()\n"
      ],
      "metadata": {
        "colab": {
          "base_uri": "https://localhost:8080/",
          "height": 704
        },
        "id": "staYAe5jsova",
        "outputId": "76c54768-4bbe-41c3-89e9-d51f83df2d8f"
      },
      "execution_count": null,
      "outputs": [
        {
          "output_type": "stream",
          "name": "stderr",
          "text": [
            "Downloading...\n",
            "From: https://drive.google.com/uc?id=1Nje52iHziTZQ1rBZIP5dSl5x8Pcaa9Po\n",
            "To: /content/ecg_rr_features_curado_final.csv\n",
            "100%|██████████| 879k/879k [00:00<00:00, 130MB/s]"
          ]
        },
        {
          "output_type": "stream",
          "name": "stdout",
          "text": [
            "label\n",
            "Anormal    3100\n",
            "Normal     3058\n",
            "Name: count, dtype: int64\n",
            "          registro      fs  duracion_seq      media_mv       mstd_mV  \\\n",
            "count  6158.000000  6158.0   6158.000000   6158.000000  6.158000e+03   \n",
            "mean    132.711270   300.0     33.088843     17.831102  1.906987e+05   \n",
            "std     271.421606     0.0     11.052537   2304.862565  1.003146e+05   \n",
            "min       3.000000   300.0      9.126667 -29001.455411  3.983048e+04   \n",
            "25%      33.000000   300.0     30.000000   -742.435699  1.278831e+05   \n",
            "50%      87.000000   300.0     30.000000     58.822723  1.658264e+05   \n",
            "75%     170.000000   300.0     30.000000    847.913229  2.227718e+05   \n",
            "max    6952.000000   300.0     60.880000  21174.855443  1.104316e+06   \n",
            "\n",
            "          skewness     kurtosis    rr_mean_s     rr_std_s  \n",
            "count  6157.000000  6157.000000  6158.000000  6158.000000  \n",
            "mean     -0.270746     3.983144     0.827533     0.158631  \n",
            "std       1.849515     7.908589     0.176711     0.115974  \n",
            "min      -7.511910    -2.000000     0.321812     0.000000  \n",
            "25%      -1.167512    -0.543542     0.713931     0.067660  \n",
            "50%      -0.077855     0.950415     0.819495     0.136412  \n",
            "75%       0.655238     5.301513     0.933333     0.224843  \n",
            "max       9.273188    88.627652     1.933333     0.778333  \n"
          ]
        },
        {
          "output_type": "stream",
          "name": "stderr",
          "text": [
            "\n"
          ]
        },
        {
          "output_type": "execute_result",
          "data": {
            "text/plain": [
              "       id  registro   fs  duracion_seq     media_mv        mstd_mV  skewness  \\\n",
              "0  A01348        57  300          30.0   735.254007  310313.743963 -1.231753   \n",
              "1  A06630        76  300          60.0  -746.027887  161295.726453 -1.535039   \n",
              "2  A01868        91  300          30.0  1405.374751  336726.213768 -4.168619   \n",
              "3  A04904       220  300          30.0  -155.614626   98189.005949  0.173177   \n",
              "4  A02311        90  300          30.0   543.214706  145482.725942  1.526648   \n",
              "\n",
              "    kurtosis  rr_mean_s  rr_std_s    label  \n",
              "0  -0.232143   0.820000  0.236288   Normal  \n",
              "1   4.487984   0.862319  0.153698  Anormal  \n",
              "2  15.886332   0.730583  0.083785   Normal  \n",
              "3  -1.632677   1.124487  0.500370  Anormal  \n",
              "4   4.809847   0.644638  0.032014  Anormal  "
            ],
            "text/html": [
              "\n",
              "  <div id=\"df-0bec93b3-2b6a-473a-9a8c-1a75cbff2458\" class=\"colab-df-container\">\n",
              "    <div>\n",
              "<style scoped>\n",
              "    .dataframe tbody tr th:only-of-type {\n",
              "        vertical-align: middle;\n",
              "    }\n",
              "\n",
              "    .dataframe tbody tr th {\n",
              "        vertical-align: top;\n",
              "    }\n",
              "\n",
              "    .dataframe thead th {\n",
              "        text-align: right;\n",
              "    }\n",
              "</style>\n",
              "<table border=\"1\" class=\"dataframe\">\n",
              "  <thead>\n",
              "    <tr style=\"text-align: right;\">\n",
              "      <th></th>\n",
              "      <th>id</th>\n",
              "      <th>registro</th>\n",
              "      <th>fs</th>\n",
              "      <th>duracion_seq</th>\n",
              "      <th>media_mv</th>\n",
              "      <th>mstd_mV</th>\n",
              "      <th>skewness</th>\n",
              "      <th>kurtosis</th>\n",
              "      <th>rr_mean_s</th>\n",
              "      <th>rr_std_s</th>\n",
              "      <th>label</th>\n",
              "    </tr>\n",
              "  </thead>\n",
              "  <tbody>\n",
              "    <tr>\n",
              "      <th>0</th>\n",
              "      <td>A01348</td>\n",
              "      <td>57</td>\n",
              "      <td>300</td>\n",
              "      <td>30.0</td>\n",
              "      <td>735.254007</td>\n",
              "      <td>310313.743963</td>\n",
              "      <td>-1.231753</td>\n",
              "      <td>-0.232143</td>\n",
              "      <td>0.820000</td>\n",
              "      <td>0.236288</td>\n",
              "      <td>Normal</td>\n",
              "    </tr>\n",
              "    <tr>\n",
              "      <th>1</th>\n",
              "      <td>A06630</td>\n",
              "      <td>76</td>\n",
              "      <td>300</td>\n",
              "      <td>60.0</td>\n",
              "      <td>-746.027887</td>\n",
              "      <td>161295.726453</td>\n",
              "      <td>-1.535039</td>\n",
              "      <td>4.487984</td>\n",
              "      <td>0.862319</td>\n",
              "      <td>0.153698</td>\n",
              "      <td>Anormal</td>\n",
              "    </tr>\n",
              "    <tr>\n",
              "      <th>2</th>\n",
              "      <td>A01868</td>\n",
              "      <td>91</td>\n",
              "      <td>300</td>\n",
              "      <td>30.0</td>\n",
              "      <td>1405.374751</td>\n",
              "      <td>336726.213768</td>\n",
              "      <td>-4.168619</td>\n",
              "      <td>15.886332</td>\n",
              "      <td>0.730583</td>\n",
              "      <td>0.083785</td>\n",
              "      <td>Normal</td>\n",
              "    </tr>\n",
              "    <tr>\n",
              "      <th>3</th>\n",
              "      <td>A04904</td>\n",
              "      <td>220</td>\n",
              "      <td>300</td>\n",
              "      <td>30.0</td>\n",
              "      <td>-155.614626</td>\n",
              "      <td>98189.005949</td>\n",
              "      <td>0.173177</td>\n",
              "      <td>-1.632677</td>\n",
              "      <td>1.124487</td>\n",
              "      <td>0.500370</td>\n",
              "      <td>Anormal</td>\n",
              "    </tr>\n",
              "    <tr>\n",
              "      <th>4</th>\n",
              "      <td>A02311</td>\n",
              "      <td>90</td>\n",
              "      <td>300</td>\n",
              "      <td>30.0</td>\n",
              "      <td>543.214706</td>\n",
              "      <td>145482.725942</td>\n",
              "      <td>1.526648</td>\n",
              "      <td>4.809847</td>\n",
              "      <td>0.644638</td>\n",
              "      <td>0.032014</td>\n",
              "      <td>Anormal</td>\n",
              "    </tr>\n",
              "  </tbody>\n",
              "</table>\n",
              "</div>\n",
              "    <div class=\"colab-df-buttons\">\n",
              "\n",
              "  <div class=\"colab-df-container\">\n",
              "    <button class=\"colab-df-convert\" onclick=\"convertToInteractive('df-0bec93b3-2b6a-473a-9a8c-1a75cbff2458')\"\n",
              "            title=\"Convert this dataframe to an interactive table.\"\n",
              "            style=\"display:none;\">\n",
              "\n",
              "  <svg xmlns=\"http://www.w3.org/2000/svg\" height=\"24px\" viewBox=\"0 -960 960 960\">\n",
              "    <path d=\"M120-120v-720h720v720H120Zm60-500h600v-160H180v160Zm220 220h160v-160H400v160Zm0 220h160v-160H400v160ZM180-400h160v-160H180v160Zm440 0h160v-160H620v160ZM180-180h160v-160H180v160Zm440 0h160v-160H620v160Z\"/>\n",
              "  </svg>\n",
              "    </button>\n",
              "\n",
              "  <style>\n",
              "    .colab-df-container {\n",
              "      display:flex;\n",
              "      gap: 12px;\n",
              "    }\n",
              "\n",
              "    .colab-df-convert {\n",
              "      background-color: #E8F0FE;\n",
              "      border: none;\n",
              "      border-radius: 50%;\n",
              "      cursor: pointer;\n",
              "      display: none;\n",
              "      fill: #1967D2;\n",
              "      height: 32px;\n",
              "      padding: 0 0 0 0;\n",
              "      width: 32px;\n",
              "    }\n",
              "\n",
              "    .colab-df-convert:hover {\n",
              "      background-color: #E2EBFA;\n",
              "      box-shadow: 0px 1px 2px rgba(60, 64, 67, 0.3), 0px 1px 3px 1px rgba(60, 64, 67, 0.15);\n",
              "      fill: #174EA6;\n",
              "    }\n",
              "\n",
              "    .colab-df-buttons div {\n",
              "      margin-bottom: 4px;\n",
              "    }\n",
              "\n",
              "    [theme=dark] .colab-df-convert {\n",
              "      background-color: #3B4455;\n",
              "      fill: #D2E3FC;\n",
              "    }\n",
              "\n",
              "    [theme=dark] .colab-df-convert:hover {\n",
              "      background-color: #434B5C;\n",
              "      box-shadow: 0px 1px 3px 1px rgba(0, 0, 0, 0.15);\n",
              "      filter: drop-shadow(0px 1px 2px rgba(0, 0, 0, 0.3));\n",
              "      fill: #FFFFFF;\n",
              "    }\n",
              "  </style>\n",
              "\n",
              "    <script>\n",
              "      const buttonEl =\n",
              "        document.querySelector('#df-0bec93b3-2b6a-473a-9a8c-1a75cbff2458 button.colab-df-convert');\n",
              "      buttonEl.style.display =\n",
              "        google.colab.kernel.accessAllowed ? 'block' : 'none';\n",
              "\n",
              "      async function convertToInteractive(key) {\n",
              "        const element = document.querySelector('#df-0bec93b3-2b6a-473a-9a8c-1a75cbff2458');\n",
              "        const dataTable =\n",
              "          await google.colab.kernel.invokeFunction('convertToInteractive',\n",
              "                                                    [key], {});\n",
              "        if (!dataTable) return;\n",
              "\n",
              "        const docLinkHtml = 'Like what you see? Visit the ' +\n",
              "          '<a target=\"_blank\" href=https://colab.research.google.com/notebooks/data_table.ipynb>data table notebook</a>'\n",
              "          + ' to learn more about interactive tables.';\n",
              "        element.innerHTML = '';\n",
              "        dataTable['output_type'] = 'display_data';\n",
              "        await google.colab.output.renderOutput(dataTable, element);\n",
              "        const docLink = document.createElement('div');\n",
              "        docLink.innerHTML = docLinkHtml;\n",
              "        element.appendChild(docLink);\n",
              "      }\n",
              "    </script>\n",
              "  </div>\n",
              "\n",
              "\n",
              "    <div id=\"df-26e42322-e72e-4ead-b5de-4b3c7b92a990\">\n",
              "      <button class=\"colab-df-quickchart\" onclick=\"quickchart('df-26e42322-e72e-4ead-b5de-4b3c7b92a990')\"\n",
              "                title=\"Suggest charts\"\n",
              "                style=\"display:none;\">\n",
              "\n",
              "<svg xmlns=\"http://www.w3.org/2000/svg\" height=\"24px\"viewBox=\"0 0 24 24\"\n",
              "     width=\"24px\">\n",
              "    <g>\n",
              "        <path d=\"M19 3H5c-1.1 0-2 .9-2 2v14c0 1.1.9 2 2 2h14c1.1 0 2-.9 2-2V5c0-1.1-.9-2-2-2zM9 17H7v-7h2v7zm4 0h-2V7h2v10zm4 0h-2v-4h2v4z\"/>\n",
              "    </g>\n",
              "</svg>\n",
              "      </button>\n",
              "\n",
              "<style>\n",
              "  .colab-df-quickchart {\n",
              "      --bg-color: #E8F0FE;\n",
              "      --fill-color: #1967D2;\n",
              "      --hover-bg-color: #E2EBFA;\n",
              "      --hover-fill-color: #174EA6;\n",
              "      --disabled-fill-color: #AAA;\n",
              "      --disabled-bg-color: #DDD;\n",
              "  }\n",
              "\n",
              "  [theme=dark] .colab-df-quickchart {\n",
              "      --bg-color: #3B4455;\n",
              "      --fill-color: #D2E3FC;\n",
              "      --hover-bg-color: #434B5C;\n",
              "      --hover-fill-color: #FFFFFF;\n",
              "      --disabled-bg-color: #3B4455;\n",
              "      --disabled-fill-color: #666;\n",
              "  }\n",
              "\n",
              "  .colab-df-quickchart {\n",
              "    background-color: var(--bg-color);\n",
              "    border: none;\n",
              "    border-radius: 50%;\n",
              "    cursor: pointer;\n",
              "    display: none;\n",
              "    fill: var(--fill-color);\n",
              "    height: 32px;\n",
              "    padding: 0;\n",
              "    width: 32px;\n",
              "  }\n",
              "\n",
              "  .colab-df-quickchart:hover {\n",
              "    background-color: var(--hover-bg-color);\n",
              "    box-shadow: 0 1px 2px rgba(60, 64, 67, 0.3), 0 1px 3px 1px rgba(60, 64, 67, 0.15);\n",
              "    fill: var(--button-hover-fill-color);\n",
              "  }\n",
              "\n",
              "  .colab-df-quickchart-complete:disabled,\n",
              "  .colab-df-quickchart-complete:disabled:hover {\n",
              "    background-color: var(--disabled-bg-color);\n",
              "    fill: var(--disabled-fill-color);\n",
              "    box-shadow: none;\n",
              "  }\n",
              "\n",
              "  .colab-df-spinner {\n",
              "    border: 2px solid var(--fill-color);\n",
              "    border-color: transparent;\n",
              "    border-bottom-color: var(--fill-color);\n",
              "    animation:\n",
              "      spin 1s steps(1) infinite;\n",
              "  }\n",
              "\n",
              "  @keyframes spin {\n",
              "    0% {\n",
              "      border-color: transparent;\n",
              "      border-bottom-color: var(--fill-color);\n",
              "      border-left-color: var(--fill-color);\n",
              "    }\n",
              "    20% {\n",
              "      border-color: transparent;\n",
              "      border-left-color: var(--fill-color);\n",
              "      border-top-color: var(--fill-color);\n",
              "    }\n",
              "    30% {\n",
              "      border-color: transparent;\n",
              "      border-left-color: var(--fill-color);\n",
              "      border-top-color: var(--fill-color);\n",
              "      border-right-color: var(--fill-color);\n",
              "    }\n",
              "    40% {\n",
              "      border-color: transparent;\n",
              "      border-right-color: var(--fill-color);\n",
              "      border-top-color: var(--fill-color);\n",
              "    }\n",
              "    60% {\n",
              "      border-color: transparent;\n",
              "      border-right-color: var(--fill-color);\n",
              "    }\n",
              "    80% {\n",
              "      border-color: transparent;\n",
              "      border-right-color: var(--fill-color);\n",
              "      border-bottom-color: var(--fill-color);\n",
              "    }\n",
              "    90% {\n",
              "      border-color: transparent;\n",
              "      border-bottom-color: var(--fill-color);\n",
              "    }\n",
              "  }\n",
              "</style>\n",
              "\n",
              "      <script>\n",
              "        async function quickchart(key) {\n",
              "          const quickchartButtonEl =\n",
              "            document.querySelector('#' + key + ' button');\n",
              "          quickchartButtonEl.disabled = true;  // To prevent multiple clicks.\n",
              "          quickchartButtonEl.classList.add('colab-df-spinner');\n",
              "          try {\n",
              "            const charts = await google.colab.kernel.invokeFunction(\n",
              "                'suggestCharts', [key], {});\n",
              "          } catch (error) {\n",
              "            console.error('Error during call to suggestCharts:', error);\n",
              "          }\n",
              "          quickchartButtonEl.classList.remove('colab-df-spinner');\n",
              "          quickchartButtonEl.classList.add('colab-df-quickchart-complete');\n",
              "        }\n",
              "        (() => {\n",
              "          let quickchartButtonEl =\n",
              "            document.querySelector('#df-26e42322-e72e-4ead-b5de-4b3c7b92a990 button');\n",
              "          quickchartButtonEl.style.display =\n",
              "            google.colab.kernel.accessAllowed ? 'block' : 'none';\n",
              "        })();\n",
              "      </script>\n",
              "    </div>\n",
              "\n",
              "    </div>\n",
              "  </div>\n"
            ],
            "application/vnd.google.colaboratory.intrinsic+json": {
              "type": "dataframe",
              "variable_name": "df",
              "summary": "{\n  \"name\": \"df\",\n  \"rows\": 6158,\n  \"fields\": [\n    {\n      \"column\": \"id\",\n      \"properties\": {\n        \"dtype\": \"string\",\n        \"num_unique_values\": 6158,\n        \"samples\": [\n          \"A04783\",\n          \"A08417\",\n          \"A06058\"\n        ],\n        \"semantic_type\": \"\",\n        \"description\": \"\"\n      }\n    },\n    {\n      \"column\": \"registro\",\n      \"properties\": {\n        \"dtype\": \"number\",\n        \"std\": 271,\n        \"min\": 3,\n        \"max\": 6952,\n        \"num_unique_values\": 528,\n        \"samples\": [\n          548,\n          853,\n          49\n        ],\n        \"semantic_type\": \"\",\n        \"description\": \"\"\n      }\n    },\n    {\n      \"column\": \"fs\",\n      \"properties\": {\n        \"dtype\": \"number\",\n        \"std\": 0,\n        \"min\": 300,\n        \"max\": 300,\n        \"num_unique_values\": 1,\n        \"samples\": [\n          300\n        ],\n        \"semantic_type\": \"\",\n        \"description\": \"\"\n      }\n    },\n    {\n      \"column\": \"duracion_seq\",\n      \"properties\": {\n        \"dtype\": \"number\",\n        \"std\": 11.052537327822176,\n        \"min\": 9.126666666666669,\n        \"max\": 60.88,\n        \"num_unique_values\": 1059,\n        \"samples\": [\n          27.746666666666663\n        ],\n        \"semantic_type\": \"\",\n        \"description\": \"\"\n      }\n    },\n    {\n      \"column\": \"media_mv\",\n      \"properties\": {\n        \"dtype\": \"number\",\n        \"std\": 2304.8625646647474,\n        \"min\": -29001.455410862516,\n        \"max\": 21174.85544334752,\n        \"num_unique_values\": 6157,\n        \"samples\": [\n          -1210.961713958278\n        ],\n        \"semantic_type\": \"\",\n        \"description\": \"\"\n      }\n    },\n    {\n      \"column\": \"mstd_mV\",\n      \"properties\": {\n        \"dtype\": \"number\",\n        \"std\": 100314.61691293119,\n        \"min\": 39830.48041343877,\n        \"max\": 1104316.1969129525,\n        \"num_unique_values\": 6157,\n        \"samples\": [\n          125102.37229899871\n        ],\n        \"semantic_type\": \"\",\n        \"description\": \"\"\n      }\n    },\n    {\n      \"column\": \"skewness\",\n      \"properties\": {\n        \"dtype\": \"number\",\n        \"std\": 1.8495152595629165,\n        \"min\": -7.511910330144791,\n        \"max\": 9.273187675078873,\n        \"num_unique_values\": 6132,\n        \"samples\": [\n          -1.061487986740147\n        ],\n        \"semantic_type\": \"\",\n        \"description\": \"\"\n      }\n    },\n    {\n      \"column\": \"kurtosis\",\n      \"properties\": {\n        \"dtype\": \"number\",\n        \"std\": 7.908589482743211,\n        \"min\": -2.0,\n        \"max\": 88.62765176354726,\n        \"num_unique_values\": 6085,\n        \"samples\": [\n          -1.121334598590202\n        ],\n        \"semantic_type\": \"\",\n        \"description\": \"\"\n      }\n    },\n    {\n      \"column\": \"rr_mean_s\",\n      \"properties\": {\n        \"dtype\": \"number\",\n        \"std\": 0.17671072895795273,\n        \"min\": 0.3218115942028986,\n        \"max\": 1.9333333333333336,\n        \"num_unique_values\": 5663,\n        \"samples\": [\n          0.9925000000000002\n        ],\n        \"semantic_type\": \"\",\n        \"description\": \"\"\n      }\n    },\n    {\n      \"column\": \"rr_std_s\",\n      \"properties\": {\n        \"dtype\": \"number\",\n        \"std\": 0.11597422223109678,\n        \"min\": 0.0,\n        \"max\": 0.7783333333333333,\n        \"num_unique_values\": 6149,\n        \"samples\": [\n          0.316890132394605\n        ],\n        \"semantic_type\": \"\",\n        \"description\": \"\"\n      }\n    },\n    {\n      \"column\": \"label\",\n      \"properties\": {\n        \"dtype\": \"category\",\n        \"num_unique_values\": 2,\n        \"samples\": [\n          \"Anormal\"\n        ],\n        \"semantic_type\": \"\",\n        \"description\": \"\"\n      }\n    }\n  ]\n}"
            }
          },
          "metadata": {},
          "execution_count": 2
        }
      ]
    },
    {
      "cell_type": "markdown",
      "source": [
        "Separamos el Dataset en las features y la clase, además, eliminamos las variables que no aportan información para el modelo como el id, registro y el fs ya que su std = 0"
      ],
      "metadata": {
        "id": "YYS0b_NJOjjX"
      }
    },
    {
      "cell_type": "code",
      "source": [
        "from sklearn.preprocessing import StandardScaler\n",
        "\n",
        "# Separar features (X) y target (y)\n",
        "X = df[['duracion_seq',\t'media_mv',\t'mstd_mV'\t,'skewness',\t'kurtosis',\t'rr_mean_s',\t'rr_std_s']]\n",
        "y = df['label']\n",
        "\n",
        "# Mostrar las primeras filas\n",
        "print(\"Features (X):\")\n",
        "print(X.head())\n",
        "print(\"\\nTarget (y):\")\n",
        "print(y.head())\n"
      ],
      "metadata": {
        "colab": {
          "base_uri": "https://localhost:8080/"
        },
        "id": "qwl3kF2kt1cd",
        "outputId": "3970c6d1-5476-4af1-fbaa-7d000f0c86a3"
      },
      "execution_count": null,
      "outputs": [
        {
          "output_type": "stream",
          "name": "stdout",
          "text": [
            "Features (X):\n",
            "   duracion_seq     media_mv        mstd_mV  skewness   kurtosis  rr_mean_s  \\\n",
            "0          30.0   735.254007  310313.743963 -1.231753  -0.232143   0.820000   \n",
            "1          60.0  -746.027887  161295.726453 -1.535039   4.487984   0.862319   \n",
            "2          30.0  1405.374751  336726.213768 -4.168619  15.886332   0.730583   \n",
            "3          30.0  -155.614626   98189.005949  0.173177  -1.632677   1.124487   \n",
            "4          30.0   543.214706  145482.725942  1.526648   4.809847   0.644638   \n",
            "\n",
            "   rr_std_s  \n",
            "0  0.236288  \n",
            "1  0.153698  \n",
            "2  0.083785  \n",
            "3  0.500370  \n",
            "4  0.032014  \n",
            "\n",
            "Target (y):\n",
            "0     Normal\n",
            "1    Anormal\n",
            "2     Normal\n",
            "3    Anormal\n",
            "4    Anormal\n",
            "Name: label, dtype: object\n"
          ]
        }
      ]
    },
    {
      "cell_type": "code",
      "source": [
        "# prompt: Aplica estandarización y hace un shuffle a la base de datos\n",
        "\n",
        "# Estandarizar las características\n",
        "scaler = StandardScaler()\n",
        "X_scaled = scaler.fit_transform(X)\n",
        "\n",
        "# Convertir X_scaled de vuelta a DataFrame para facilitar el manejo\n",
        "X_scaled = pd.DataFrame(X_scaled, columns=X.columns)\n",
        "\n",
        "# Concatenar las características estandarizadas y la variable objetivo\n",
        "df_scaled = pd.concat([X_scaled, y], axis=1)\n",
        "\n",
        "# Barajar (shuffle) el DataFrame estandarizado\n",
        "df_shuffled = df_scaled.sample(frac=1, random_state=42).reset_index(drop=True)\n",
        "\n",
        "# Separar nuevamente las características (X) y el target (y) del DataFrame barajado\n",
        "X_shuffled = df_shuffled[['duracion_seq',\t'media_mv',\t'mstd_mV'\t,'skewness',\t'kurtosis',\t'rr_mean_s',\t'rr_std_s']]\n",
        "y_shuffled = df_shuffled['label']\n",
        "\n",
        "# Mostrar las primeras filas de los DataFrames estandarizados y barajados\n",
        "print(\"\\nFeatures (X) after standardization and shuffling:\")\n",
        "print(X_shuffled.head())\n",
        "print(\"\\nTarget (y) after shuffling:\")\n",
        "print(y_shuffled.head())"
      ],
      "metadata": {
        "colab": {
          "base_uri": "https://localhost:8080/"
        },
        "id": "uT7bkmp83ys6",
        "outputId": "55b88126-ca39-4404-fc16-c484ca22a49f"
      },
      "execution_count": null,
      "outputs": [
        {
          "output_type": "stream",
          "name": "stdout",
          "text": [
            "\n",
            "Features (X) after standardization and shuffling:\n",
            "   duracion_seq  media_mv   mstd_mV  skewness  kurtosis  rr_mean_s  rr_std_s\n",
            "0     -0.279492  0.365282 -0.626260 -0.136537 -0.427227   0.072713 -0.235843\n",
            "1     -0.279492 -0.154061 -1.121976  0.610836 -0.329869  -0.293482 -1.198215\n",
            "2     -0.279492  0.082126 -0.454172  0.065129 -0.606041  -0.524626 -1.266102\n",
            "3     -0.279492  0.072173 -0.536399  1.345613  0.099548  -1.064609  0.599264\n",
            "4     -0.279492  1.678142  0.885666  0.777886 -0.455619  -2.156328 -0.201320\n",
            "\n",
            "Target (y) after shuffling:\n",
            "0    Anormal\n",
            "1     Normal\n",
            "2     Normal\n",
            "3    Anormal\n",
            "4    Anormal\n",
            "Name: label, dtype: object\n"
          ]
        }
      ]
    },
    {
      "cell_type": "markdown",
      "source": [
        "Separaremos el dataset en las siguientes distribuciones 60% training, 20% validación, 20% para test"
      ],
      "metadata": {
        "id": "rPQxgmhd4DpT"
      }
    },
    {
      "cell_type": "code",
      "source": [
        "# prompt: Separa el dataset en 60% training, 20% validación, 20% test\n",
        "\n",
        "from sklearn.model_selection import train_test_split\n",
        "\n",
        "# Dividir el dataset en training (60%) y el resto (40%)\n",
        "X_train, X_temp, y_train, y_temp = train_test_split(X_shuffled, y_shuffled, test_size=0.4, random_state=42, stratify=y_shuffled)\n",
        "\n",
        "# Dividir el 40% restante en validation (20%) y test (20%)\n",
        "# Como X_temp y y_temp son el 40% del total, dividir por 0.5 (20/40) nos da 20% del total para validation y 20% para test\n",
        "X_val, X_test, y_val, y_test = train_test_split(X_temp, y_temp, test_size=0.5, random_state=42, stratify=y_temp)\n",
        "\n",
        "# Imprimir las formas de los conjuntos resultantes para verificar las divisiones\n",
        "print(\"Shape of X_train:\", X_train.shape)\n",
        "print(\"Shape of y_train:\", y_train.shape)\n",
        "print(\"Shape of X_val:\", X_val.shape)\n",
        "print(\"Shape of y_val:\", y_val.shape)\n",
        "print(\"Shape of X_test:\", X_test.shape)\n",
        "print(\"Shape of y_test:\", y_test.shape)"
      ],
      "metadata": {
        "colab": {
          "base_uri": "https://localhost:8080/"
        },
        "id": "URwgXUxnuxw7",
        "outputId": "fa0b57a4-357b-4974-e8dc-eadd518d010f"
      },
      "execution_count": null,
      "outputs": [
        {
          "output_type": "stream",
          "name": "stdout",
          "text": [
            "Shape of X_train: (3694, 7)\n",
            "Shape of y_train: (3694,)\n",
            "Shape of X_val: (1232, 7)\n",
            "Shape of y_val: (1232,)\n",
            "Shape of X_test: (1232, 7)\n",
            "Shape of y_test: (1232,)\n"
          ]
        }
      ]
    },
    {
      "cell_type": "markdown",
      "source": [
        "Crearemos un Modelo de Random Forest para clasificar binariamente los datos, y usaremos GridSearch para ajustar los hiperparámetros usando el conjunto de validación"
      ],
      "metadata": {
        "id": "X0xlli5VvCqb"
      }
    },
    {
      "cell_type": "code",
      "source": [
        "# prompt: Crearemos un Modelo de Random Forest para clasificar binariamente los datos, y usaremos GridSearch para ajustar los hiperparámetros usando el conjunto de validación\n",
        "\n",
        "from sklearn.ensemble import RandomForestClassifier\n",
        "from sklearn.model_selection import GridSearchCV\n",
        "from sklearn.metrics import classification_report\n",
        "\n",
        "# Definir el modelo Random Forest\n",
        "rf_model = RandomForestClassifier(random_state=42)\n",
        "\n",
        "# Definir los hiperparámetros para GridSearch\n",
        "param_grid = {\n",
        "    'n_estimators': [100, 200, 300],\n",
        "    'max_depth': [None, 10, 20],\n",
        "    'min_samples_split': [2, 5, 10],\n",
        "    'min_samples_leaf': [1, 2, 4]\n",
        "}\n",
        "\n",
        "# Configurar GridSearch con validación cruzada (por defecto usa 5 folds)\n",
        "# Usamos el conjunto de entrenamiento para el entrenamiento interno de GridSearch\n",
        "# y el conjunto de validación para evaluar el rendimiento de cada combinación de hiperparámetros\n",
        "grid_search = GridSearchCV(estimator=rf_model, param_grid=param_grid, cv=5, scoring='accuracy', n_jobs=-1, verbose=2)\n",
        "\n",
        "# Ajustar GridSearch a los datos de entrenamiento (para encontrar los mejores parámetros usando CV)\n",
        "# Aunque la instrucción dice usar el conjunto de validación para ajustar, en la práctica de GridSearch\n",
        "# los parámetros se ajustan sobre el conjunto de entrenamiento usando validación cruzada,\n",
        "# y luego el modelo final con los mejores parámetros se evalúa en el conjunto de validación/test.\n",
        "# Aquí ajustamos sobre el conjunto de entrenamiento `X_train` y `y_train`.\n",
        "grid_search.fit(X_train, y_train)\n",
        "\n",
        "# Mostrar los mejores hiperparámetros encontrados\n",
        "print(\"\\nMejores hiperparámetros encontrados por GridSearch:\")\n",
        "print(grid_search.best_params_)\n",
        "\n",
        "# Obtener el mejor modelo\n",
        "best_rf_model = grid_search.best_estimator_\n",
        "\n",
        "# Evaluar el mejor modelo en el conjunto de validación\n",
        "y_val_pred = best_rf_model.predict(X_val)\n",
        "\n",
        "# Mostrar el reporte de clasificación en el conjunto de validación\n",
        "print(\"\\nReporte de Clasificación en el conjunto de Validación:\")\n",
        "print(classification_report(y_val, y_val_pred))\n",
        "\n",
        "# Opcional: Evaluar el mejor modelo en el conjunto de prueba para la evaluación final\n",
        "# Este paso solo debe hacerse una vez al final del proceso de desarrollo del modelo.\n",
        "# print(\"\\nReporte de Clasificación en el conjunto de Prueba (Evaluación Final):\")\n",
        "# y_test_pred = best_rf_model.predict(X_test)\n",
        "# print(classification_report(y_test, y_test_pred))"
      ],
      "metadata": {
        "colab": {
          "base_uri": "https://localhost:8080/"
        },
        "id": "YS2pXjeMunA_",
        "outputId": "43509f9f-c60a-44be-9996-1535695fddc3"
      },
      "execution_count": null,
      "outputs": [
        {
          "output_type": "stream",
          "name": "stdout",
          "text": [
            "Fitting 5 folds for each of 81 candidates, totalling 405 fits\n",
            "\n",
            "Mejores hiperparámetros encontrados por GridSearch:\n",
            "{'max_depth': 20, 'min_samples_leaf': 2, 'min_samples_split': 10, 'n_estimators': 100}\n",
            "\n",
            "Reporte de Clasificación en el conjunto de Validación:\n",
            "              precision    recall  f1-score   support\n",
            "\n",
            "     Anormal       0.71      0.70      0.70       620\n",
            "      Normal       0.70      0.71      0.70       612\n",
            "\n",
            "    accuracy                           0.70      1232\n",
            "   macro avg       0.70      0.70      0.70      1232\n",
            "weighted avg       0.70      0.70      0.70      1232\n",
            "\n"
          ]
        }
      ]
    },
    {
      "cell_type": "markdown",
      "source": [
        "Se obtiene que la mejor combinación es:\n",
        "{'max_depth': 20, 'min_samples_leaf': 2, 'min_samples_split': 10, 'n_estimators': 100}\n"
      ],
      "metadata": {
        "id": "XTF_jTMs64Hc"
      }
    },
    {
      "cell_type": "code",
      "source": [
        "# prompt: Testea el modelo de Random forest con {'max_depth': 20, 'min_samples_leaf': 2, 'min_samples_split': 10, 'n_estimators': 100}\n",
        "\n",
        "# Evaluar el modelo con los hiperparámetros específicos proporcionados\n",
        "specific_params = {'max_depth': 20, 'min_samples_leaf': 2, 'min_samples_split': 10, 'n_estimators': 100}\n",
        "\n",
        "# Entrenar un nuevo modelo Random Forest con estos parámetros específicos\n",
        "rf_model_specific = RandomForestClassifier(random_state=42, **specific_params)\n",
        "rf_model_specific.fit(X_train, y_train)\n",
        "\n",
        "# Evaluar el modelo entrenado con los parámetros específicos en el conjunto de prueba (test)\n",
        "y_test_pred_specific = rf_model_specific.predict(X_test)\n",
        "\n",
        "# Mostrar el reporte de clasificación para la evaluación con los parámetros específicos\n",
        "print(f\"\\nReporte de Clasificación en el conjunto de Prueba con parámetros específicos: {specific_params}\")\n",
        "print(classification_report(y_test, y_test_pred_specific))"
      ],
      "metadata": {
        "id": "VvNDE9BzAztw",
        "outputId": "a33a207d-70fd-4ecd-f023-6d20ad33ecec",
        "colab": {
          "base_uri": "https://localhost:8080/"
        }
      },
      "execution_count": null,
      "outputs": [
        {
          "output_type": "stream",
          "name": "stdout",
          "text": [
            "\n",
            "Reporte de Clasificación en el conjunto de Prueba con parámetros específicos: {'max_depth': 20, 'min_samples_leaf': 2, 'min_samples_split': 10, 'n_estimators': 100}\n",
            "              precision    recall  f1-score   support\n",
            "\n",
            "     Anormal       0.72      0.69      0.70       620\n",
            "      Normal       0.70      0.72      0.71       612\n",
            "\n",
            "    accuracy                           0.71      1232\n",
            "   macro avg       0.71      0.71      0.71      1232\n",
            "weighted avg       0.71      0.71      0.71      1232\n",
            "\n"
          ]
        }
      ]
    },
    {
      "cell_type": "code",
      "source": [
        "from sklearn.metrics import confusion_matrix\n",
        "import matplotlib.pyplot as plt\n",
        "import seaborn as sns\n",
        "import numpy as np\n",
        "\n",
        "# Generar la matriz de confusión en el conjunto de prueba con las predicciones específicas\n",
        "conf_matrix = confusion_matrix(y_test, y_test_pred_specific)\n",
        "\n",
        "# Definir las etiquetas de las clases\n",
        "class_labels = sorted(y_test.unique()) # Esto ordenará las etiquetas alfabéticamente: ['Anormal', 'Normal'] si existen ambas. Si no, ajusta manualmente.\n",
        "\n",
        "class_labels = ['Anormal', 'Normal']\n",
        "\n",
        "# Visualizar la matriz de confusión\n",
        "plt.figure(figsize=(8, 6))\n",
        "sns.heatmap(conf_matrix, annot=True, fmt='d', cmap='Blues', xticklabels=class_labels, yticklabels=class_labels)\n",
        "plt.xlabel('Predicted Label')\n",
        "plt.ylabel('True Label')\n",
        "plt.title('Confusion Matrix')\n",
        "plt.show()\n",
        "\n",
        "# Imprimir la matriz de confusión en formato de texto\n",
        "print(\"\\nConfusion Matrix:\")\n",
        "print(\"Rows: True Labels, Columns: Predicted Labels\")\n",
        "print(\"Labels Order:\", class_labels)\n",
        "conf_matrix\n"
      ],
      "metadata": {
        "id": "MquFn2sJB-wd",
        "outputId": "7ff13878-924a-49c3-ffe2-77447b22bf5a",
        "colab": {
          "base_uri": "https://localhost:8080/",
          "height": 675
        }
      },
      "execution_count": null,
      "outputs": [
        {
          "output_type": "display_data",
          "data": {
            "text/plain": [
              "<Figure size 800x600 with 2 Axes>"
            ],
            "image/png": "[encoded data removed]"
          },
          "metadata": {}
        },
        {
          "output_type": "stream",
          "name": "stdout",
          "text": [
            "\n",
            "Confusion Matrix:\n",
            "Rows: True Labels, Columns: Predicted Labels\n",
            "Labels Order: ['Anormal', 'Normal']\n"
          ]
        },
        {
          "output_type": "execute_result",
          "data": {
            "text/plain": [
              "array([[429, 191],\n",
              "       [169, 443]])"
            ]
          },
          "metadata": {},
          "execution_count": 13
        }
      ]
    },
    {
      "cell_type": "markdown",
      "source": [
        "**Análisis**\n",
        "\n",
        "El modelo de Random Forest tiene un accuracy del 71%, lo que indica un rendimiento razonable en el conjunto de prueba. Sin embargo, los valores de precisión y recall no están completamente equilibrados: la clase \"Anormal\" tiene un recall de 0.69, lo que sugiere que el modelo está perdiendo algunas instancias de esta clase, mientras que la clase \"Normal\" tiene un recall ligeramente mejor (0.72). Aunque el F1-score es de 0.71 para ambas clases, lo que muestra un balance entre precisión y recall, se observa un número significativo de falsos positivos y falsos negativos. Esto indica que el modelo podría mejorar si se ajustan los hiperparámetros o si se manejan mejor los desbalances entre clases."
      ],
      "metadata": {
        "id": "EHe71d7pPZuV"
      }
    },
    {
      "cell_type": "markdown",
      "source": [
        "Propuestas de mejoras:\n",
        "\n",
        "1. Aumento del Número de Estimadores\n",
        "Aumentar el número de estimadores (n_estimators) puede mejorar la precisión y estabilidad del modelo. Más árboles ayudan a reducir la varianza del modelo y mejorar su capacidad para generalizar sin sobreajustar los datos.\n",
        "\n",
        "2. Reducción de Dimensionalidad (PCA)\n",
        "Aplicar PCA (Análisis de Componentes Principales) puede ser útil. Reduce la dimensionalidad del conjunto de datos, eliminando redundancias y ruido, lo que puede hacer que el modelo sea más eficiente y mejorar el rendimiento general, especialmente cuando las características no aportan valor significativo."
      ],
      "metadata": {
        "id": "ZGhnrgcZx6zz"
      }
    }
  ]
}